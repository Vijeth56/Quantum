{
 "cells": [
  {
   "cell_type": "markdown",
   "id": "0e5c538d",
   "metadata": {},
   "source": [
    "### 1. Construct a Bayesian network considering medical data. Use this model to demonstrate the diagnosis of heart patients using standard Heart Disease Data Set.  "
   ]
  },
  {
   "cell_type": "code",
   "execution_count": 1,
   "id": "4ff77728",
   "metadata": {},
   "outputs": [
    {
     "name": "stdout",
     "output_type": "stream",
     "text": [
      "    age  Gender  Family  diet  Lifestyle  cholestrol  heartdisease\n",
      "0     0       0       1     1          3           0             1\n",
      "1     0       1       1     1          3           0             1\n",
      "2     1       0       0     0          2           1             1\n",
      "3     4       0       1     1          3           2             0\n",
      "4     3       1       1     0          0           2             0\n",
      "5     2       0       1     1          1           0             1\n",
      "6     4       0       1     0          2           0             1\n",
      "7     0       0       1     1          3           0             1\n",
      "8     3       1       1     0          0           2             0\n",
      "9     1       1       0     0          0           2             1\n",
      "10    4       1       0     1          2           0             1\n",
      "11    4       0       1     1          3           2             0\n",
      "12    2       1       0     0          0           0             0\n",
      "13    2       0       1     1          1           0             1\n",
      "14    3       1       1     0          0           1             0\n",
      "15    0       0       1     0          0           2             1\n",
      "16    1       1       0     1          2           1             1\n",
      "17    3       1       1     1          0           1             0\n",
      "18    4       0       1     1          3           2             0\n"
     ]
    }
   ],
   "source": [
    "import pandas as pd\n",
    "data=pd.read_csv(\"heartdisease.csv\")\n",
    "heart_disease=pd.DataFrame(data)\n",
    "print(heart_disease)"
   ]
  },
  {
   "cell_type": "code",
   "execution_count": 2,
   "id": "d34b49df",
   "metadata": {},
   "outputs": [],
   "source": [
    "from pgmpy.models import BayesianNetwork\n",
    "model=BayesianNetwork([\n",
    "('age','Lifestyle'),\n",
    "('Gender','Lifestyle'),\n",
    "('Family','heartdisease'),\n",
    "('diet','cholestrol'),\n",
    "('Lifestyle','diet'),\n",
    "('cholestrol','heartdisease'),\n",
    "('diet','cholestrol')\n",
    "])\n",
    "\n",
    "from pgmpy.estimators import MaximumLikelihoodEstimator\n",
    "model.fit(heart_disease, estimator=MaximumLikelihoodEstimator)\n",
    "\n",
    "from pgmpy.inference import VariableElimination\n",
    "HeartDisease_infer = VariableElimination(model)"
   ]
  },
  {
   "cell_type": "code",
   "execution_count": 3,
   "id": "969286d6",
   "metadata": {},
   "outputs": [
    {
     "name": "stdout",
     "output_type": "stream",
     "text": [
      "For age Enter { SuperSeniorCitizen:0, SeniorCitizen:1, MiddleAged:2, Youth:3, Teen:4 }\n",
      "For Gender Enter { Male:0, Female:1 }\n",
      "For Family History Enter { yes:1, No:0 }\n",
      "For diet Enter { High:0, Medium:1 }\n",
      "For lifeStyle Enter { Athlete:0, Active:1, Moderate:2, Sedentary:3 }\n",
      "For cholesterol Enter { High:0, BorderLine:1, Normal:2 }\n",
      "Enter age :1\n",
      "Enter Gender :1\n",
      "Enter Family history :0\n",
      "Enter diet :1\n",
      "Enter Lifestyle :0\n",
      "Enter cholestrol :1\n",
      "+-----------------+---------------------+\n",
      "| heartdisease    |   phi(heartdisease) |\n",
      "+=================+=====================+\n",
      "| heartdisease(0) |              0.0000 |\n",
      "+-----------------+---------------------+\n",
      "| heartdisease(1) |              1.0000 |\n",
      "+-----------------+---------------------+\n"
     ]
    }
   ],
   "source": [
    "print('For age Enter { SuperSeniorCitizen:0, SeniorCitizen:1, MiddleAged:2, Youth:3, Teen:4 }')\n",
    "print('For Gender Enter { Male:0, Female:1 }')\n",
    "print('For Family History Enter { yes:1, No:0 }')\n",
    "print('For diet Enter { High:0, Medium:1 }')\n",
    "print('For lifeStyle Enter { Athlete:0, Active:1, Moderate:2, Sedentary:3 }')\n",
    "print('For cholesterol Enter { High:0, BorderLine:1, Normal:2 }')\n",
    "\n",
    "q = HeartDisease_infer.query(variables=['heartdisease'], evidence={\n",
    "    'age':int(input('Enter age :')),\n",
    "    'Gender':int(input('Enter Gender :')),\n",
    "    'Family':int(input('Enter Family history :')),\n",
    "    'diet':int(input('Enter diet :')),\n",
    "    'Lifestyle':int(input('Enter Lifestyle :')),\n",
    "    'cholestrol':int(input('Enter cholestrol :'))\n",
    "    })\n",
    "\n",
    "print(q)"
   ]
  },
  {
   "cell_type": "markdown",
   "id": "a629ed55",
   "metadata": {},
   "source": [
    "### 2. Build an Artificial Neural Network by implementing the Backpropagation algorithm and test the same using appropriate data sets."
   ]
  },
  {
   "cell_type": "code",
   "execution_count": 4,
   "id": "b52c1d23",
   "metadata": {},
   "outputs": [
    {
     "name": "stdout",
     "output_type": "stream",
     "text": [
      "Database raw shape (86,7130)\n"
     ]
    }
   ],
   "source": [
    "import numpy as np\n",
    "from sklearn.model_selection import train_test_split\n",
    "\n",
    "db = np.loadtxt(\"duke-breast-cancer.txt\")\n",
    "print(\"Database raw shape (%s,%s)\" % np.shape(db))"
   ]
  },
  {
   "cell_type": "code",
   "execution_count": 5,
   "id": "eda29025",
   "metadata": {},
   "outputs": [
    {
     "name": "stdout",
     "output_type": "stream",
     "text": [
      "(77, 7129) (9, 7129)\n"
     ]
    }
   ],
   "source": [
    "np.random.shuffle(db)\n",
    "y = db[:, 0]\n",
    "x = np.delete(db, [0], axis=1)\n",
    "x_train, x_test, y_train, y_test = train_test_split(x, y, test_size=0.1)\n",
    "print(np.shape(x_train),np.shape(x_test))"
   ]
  },
  {
   "cell_type": "code",
   "execution_count": 6,
   "id": "42c3ef49",
   "metadata": {},
   "outputs": [],
   "source": [
    "hidden_layer = np.zeros(72)\n",
    "weights = np.random.random((len(x[0]), 72))\n",
    "output_layer = np.zeros(2)\n",
    "hidden_weights = np.random.random((72, 2))"
   ]
  },
  {
   "cell_type": "code",
   "execution_count": 7,
   "id": "7a050ea6",
   "metadata": {},
   "outputs": [],
   "source": [
    "def sum_function(weights, index_locked_col, x):\n",
    "    result = 0\n",
    "    for i in range(0, len(x)):\n",
    "        result += x[i] * weights[i][index_locked_col]\n",
    "    return result"
   ]
  },
  {
   "cell_type": "code",
   "execution_count": 8,
   "id": "71e6d4b1",
   "metadata": {},
   "outputs": [],
   "source": [
    "def activate_layer(layer, weights, x):\n",
    "    for i in range(0, len(layer)):\n",
    "        layer[i] = 1.7159 * np.tanh(2.0 * sum_function(weights, i, x) / 3.0)"
   ]
  },
  {
   "cell_type": "code",
   "execution_count": 9,
   "id": "5ac2c1ac",
   "metadata": {},
   "outputs": [],
   "source": [
    "def soft_max(layer):\n",
    "    soft_max_output_layer = np.zeros(len(layer))\n",
    "    for i in range(0, len(layer)):\n",
    "        denominator = 0\n",
    "        for j in range(0, len(layer)):\n",
    "            denominator += np.exp(layer[j] - np.max(layer))\n",
    "        soft_max_output_layer[i] = np.exp(layer[i] - np.max(layer)) / denominator\n",
    "    return soft_max_output_layer"
   ]
  },
  {
   "cell_type": "code",
   "execution_count": 10,
   "id": "66163e96",
   "metadata": {},
   "outputs": [],
   "source": [
    "def recalculate_weights(learning_rate, weights, gradient, activation):\n",
    "    for i in range(0, len(weights)):\n",
    "        for j in range(0, len(weights[i])):\n",
    "            weights[i][j] = (learning_rate * gradient[j] * activation[i]) + weights[i][j]"
   ]
  },
  {
   "cell_type": "code",
   "execution_count": 11,
   "id": "665f868c",
   "metadata": {},
   "outputs": [],
   "source": [
    "def back_propagation(hidden_layer, output_layer, one_hot_encoding, learning_rate, x):\n",
    "    output_derivative = np.zeros(2)\n",
    "    output_gradient = np.zeros(2)\n",
    "    for i in range(0, len(output_layer)):\n",
    "        output_derivative[i] = (1.0 - output_layer[i]) * output_layer[i]\n",
    "    for i in range(0, len(output_layer)):\n",
    "        output_gradient[i] = output_derivative[i] * (one_hot_encoding[i] - output_layer[i])\n",
    "    hidden_derivative = np.zeros(72)\n",
    "    hidden_gradient = np.zeros(72)\n",
    "    for i in range(0, len(hidden_layer)):\n",
    "        hidden_derivative[i] = (1.0 - hidden_layer[i]) * (1.0 + hidden_layer[i])\n",
    "    for i in range(0, len(hidden_layer)):\n",
    "        sum_ = 0\n",
    "        for j in range(0, len(output_gradient)):\n",
    "            sum_ += output_gradient[j] * hidden_weights[i][j]\n",
    "        hidden_gradient[i] = sum_ * hidden_derivative[i]\n",
    "    recalculate_weights(learning_rate, hidden_weights, output_gradient, hidden_layer)\n",
    "    recalculate_weights(learning_rate, weights, hidden_gradient, x)"
   ]
  },
  {
   "cell_type": "code",
   "execution_count": 12,
   "id": "fd896d71",
   "metadata": {},
   "outputs": [
    {
     "name": "stdout",
     "output_type": "stream",
     "text": [
      "MLP Correct answers while learning: 55 / 77 (Accuracy = 0.7142857142857143) on Duke breast cancer database.\n"
     ]
    }
   ],
   "source": [
    "one_hot_encoding = np.zeros((2,2))\n",
    "for i in range(0, len(one_hot_encoding)):\n",
    "    one_hot_encoding[i][i] = 1\n",
    "training_correct_answers = 0\n",
    "for i in range(0, len(x_train)):\n",
    "    activate_layer(hidden_layer, weights, x_train[i])\n",
    "    activate_layer(output_layer, hidden_weights, hidden_layer)\n",
    "    output_layer = soft_max(output_layer)\n",
    "    training_correct_answers += 1 if y_train[i] == np.argmax(output_layer) else 0\n",
    "    back_propagation(hidden_layer, output_layer, one_hot_encoding[int(y_train[i])], -1, x_train[i])\n",
    "print(\"MLP Correct answers while learning: %s / %s (Accuracy = %s) on %s database.\" % (training_correct_answers, len(x_train), \n",
    "                                                                                       training_correct_answers/len(x_train),\"Duke breast cancer\"))"
   ]
  },
  {
   "cell_type": "markdown",
   "id": "d725b9db",
   "metadata": {},
   "source": [
    "### 3. Demonstrate the working of EM algorithm to cluster a set of data stored in a .CSV file."
   ]
  },
  {
   "cell_type": "code",
   "execution_count": 13,
   "id": "801245eb",
   "metadata": {},
   "outputs": [
    {
     "name": "stderr",
     "output_type": "stream",
     "text": [
      "C:\\Users\\VIVEK\\anaconda3\\lib\\site-packages\\sklearn\\cluster\\_kmeans.py:870: FutureWarning: The default value of `n_init` will change from 10 to 'auto' in 1.4. Set the value of `n_init` explicitly to suppress the warning\n",
      "  warnings.warn(\n",
      "C:\\Users\\VIVEK\\anaconda3\\lib\\site-packages\\sklearn\\cluster\\_kmeans.py:1382: UserWarning: KMeans is known to have a memory leak on Windows with MKL, when there are less chunks than available threads. You can avoid it by setting the environment variable OMP_NUM_THREADS=1.\n",
      "  warnings.warn(\n"
     ]
    },
    {
     "data": {
      "text/html": [
       "<style>#sk-container-id-1 {color: black;background-color: white;}#sk-container-id-1 pre{padding: 0;}#sk-container-id-1 div.sk-toggleable {background-color: white;}#sk-container-id-1 label.sk-toggleable__label {cursor: pointer;display: block;width: 100%;margin-bottom: 0;padding: 0.3em;box-sizing: border-box;text-align: center;}#sk-container-id-1 label.sk-toggleable__label-arrow:before {content: \"▸\";float: left;margin-right: 0.25em;color: #696969;}#sk-container-id-1 label.sk-toggleable__label-arrow:hover:before {color: black;}#sk-container-id-1 div.sk-estimator:hover label.sk-toggleable__label-arrow:before {color: black;}#sk-container-id-1 div.sk-toggleable__content {max-height: 0;max-width: 0;overflow: hidden;text-align: left;background-color: #f0f8ff;}#sk-container-id-1 div.sk-toggleable__content pre {margin: 0.2em;color: black;border-radius: 0.25em;background-color: #f0f8ff;}#sk-container-id-1 input.sk-toggleable__control:checked~div.sk-toggleable__content {max-height: 200px;max-width: 100%;overflow: auto;}#sk-container-id-1 input.sk-toggleable__control:checked~label.sk-toggleable__label-arrow:before {content: \"▾\";}#sk-container-id-1 div.sk-estimator input.sk-toggleable__control:checked~label.sk-toggleable__label {background-color: #d4ebff;}#sk-container-id-1 div.sk-label input.sk-toggleable__control:checked~label.sk-toggleable__label {background-color: #d4ebff;}#sk-container-id-1 input.sk-hidden--visually {border: 0;clip: rect(1px 1px 1px 1px);clip: rect(1px, 1px, 1px, 1px);height: 1px;margin: -1px;overflow: hidden;padding: 0;position: absolute;width: 1px;}#sk-container-id-1 div.sk-estimator {font-family: monospace;background-color: #f0f8ff;border: 1px dotted black;border-radius: 0.25em;box-sizing: border-box;margin-bottom: 0.5em;}#sk-container-id-1 div.sk-estimator:hover {background-color: #d4ebff;}#sk-container-id-1 div.sk-parallel-item::after {content: \"\";width: 100%;border-bottom: 1px solid gray;flex-grow: 1;}#sk-container-id-1 div.sk-label:hover label.sk-toggleable__label {background-color: #d4ebff;}#sk-container-id-1 div.sk-serial::before {content: \"\";position: absolute;border-left: 1px solid gray;box-sizing: border-box;top: 0;bottom: 0;left: 50%;z-index: 0;}#sk-container-id-1 div.sk-serial {display: flex;flex-direction: column;align-items: center;background-color: white;padding-right: 0.2em;padding-left: 0.2em;position: relative;}#sk-container-id-1 div.sk-item {position: relative;z-index: 1;}#sk-container-id-1 div.sk-parallel {display: flex;align-items: stretch;justify-content: center;background-color: white;position: relative;}#sk-container-id-1 div.sk-item::before, #sk-container-id-1 div.sk-parallel-item::before {content: \"\";position: absolute;border-left: 1px solid gray;box-sizing: border-box;top: 0;bottom: 0;left: 50%;z-index: -1;}#sk-container-id-1 div.sk-parallel-item {display: flex;flex-direction: column;z-index: 1;position: relative;background-color: white;}#sk-container-id-1 div.sk-parallel-item:first-child::after {align-self: flex-end;width: 50%;}#sk-container-id-1 div.sk-parallel-item:last-child::after {align-self: flex-start;width: 50%;}#sk-container-id-1 div.sk-parallel-item:only-child::after {width: 0;}#sk-container-id-1 div.sk-dashed-wrapped {border: 1px dashed gray;margin: 0 0.4em 0.5em 0.4em;box-sizing: border-box;padding-bottom: 0.4em;background-color: white;}#sk-container-id-1 div.sk-label label {font-family: monospace;font-weight: bold;display: inline-block;line-height: 1.2em;}#sk-container-id-1 div.sk-label-container {text-align: center;}#sk-container-id-1 div.sk-container {/* jupyter's `normalize.less` sets `[hidden] { display: none; }` but bootstrap.min.css set `[hidden] { display: none !important; }` so we also need the `!important` here to be able to override the default hidden behavior on the sphinx rendered scikit-learn.org. See: https://github.com/scikit-learn/scikit-learn/issues/21755 */display: inline-block !important;position: relative;}#sk-container-id-1 div.sk-text-repr-fallback {display: none;}</style><div id=\"sk-container-id-1\" class=\"sk-top-container\"><div class=\"sk-text-repr-fallback\"><pre>KMeans(n_clusters=3)</pre><b>In a Jupyter environment, please rerun this cell to show the HTML representation or trust the notebook. <br />On GitHub, the HTML representation is unable to render, please try loading this page with nbviewer.org.</b></div><div class=\"sk-container\" hidden><div class=\"sk-item\"><div class=\"sk-estimator sk-toggleable\"><input class=\"sk-toggleable__control sk-hidden--visually\" id=\"sk-estimator-id-1\" type=\"checkbox\" checked><label for=\"sk-estimator-id-1\" class=\"sk-toggleable__label sk-toggleable__label-arrow\">KMeans</label><div class=\"sk-toggleable__content\"><pre>KMeans(n_clusters=3)</pre></div></div></div></div></div>"
      ],
      "text/plain": [
       "KMeans(n_clusters=3)"
      ]
     },
     "execution_count": 13,
     "metadata": {},
     "output_type": "execute_result"
    }
   ],
   "source": [
    "import matplotlib.pyplot as plt\n",
    "from sklearn import datasets\n",
    "from sklearn.cluster import KMeans\n",
    "import sklearn.metrics as sm\n",
    "import pandas as pd\n",
    "import numpy as np\n",
    "\n",
    "iris = datasets.load_iris()\n",
    "\n",
    "X = pd.DataFrame(iris.data)\n",
    "X.columns = ['Sepal_Length','Sepal_Width','Petal_Length','Petal_Width']\n",
    "\n",
    "y = pd.DataFrame(iris.target)\n",
    "y.columns = ['Targets']\n",
    "\n",
    "model = KMeans(n_clusters=3)\n",
    "model.fit(X)"
   ]
  },
  {
   "cell_type": "code",
   "execution_count": 14,
   "id": "ec22ecb7",
   "metadata": {},
   "outputs": [
    {
     "data": {
      "text/plain": [
       "Text(0, 0.5, 'Petal Width')"
      ]
     },
     "execution_count": 14,
     "metadata": {},
     "output_type": "execute_result"
    },
    {
     "data": {
      "image/png": "[encoded data removed]",
      "text/plain": [
       "<Figure size 1400x700 with 1 Axes>"
      ]
     },
     "metadata": {},
     "output_type": "display_data"
    }
   ],
   "source": [
    "plt.figure(figsize=(14,7))\n",
    "\n",
    "colormap = np.array(['red', 'lime', 'black'])\n",
    "\n",
    "# Plot the Original Classifications\n",
    "plt.subplot(1, 2, 1)\n",
    "plt.scatter(X.Petal_Length, X.Petal_Width, c=colormap[y.Targets], s=40)\n",
    "plt.title('Real Classification')\n",
    "plt.xlabel('Petal Length')\n",
    "plt.ylabel('Petal Width')"
   ]
  },
  {
   "cell_type": "code",
   "execution_count": 15,
   "id": "6ac9fdde",
   "metadata": {},
   "outputs": [
    {
     "name": "stdout",
     "output_type": "stream",
     "text": [
      "The accuracy score of K-Mean:  0.24\n",
      "The Confusion matrixof K-Mean:  [[ 0 50  0]\n",
      " [48  0  2]\n",
      " [14  0 36]]\n"
     ]
    },
    {
     "data": {
      "image/png": "[encoded data removed]",
      "text/plain": [
       "<Figure size 640x480 with 1 Axes>"
      ]
     },
     "metadata": {},
     "output_type": "display_data"
    }
   ],
   "source": [
    "# Plot the Models Classifications\n",
    "plt.subplot(1, 2, 2)\n",
    "plt.scatter(X.Petal_Length, X.Petal_Width, c=colormap[model.labels_], s=40)\n",
    "plt.title('K Mean Classification')\n",
    "plt.xlabel('Petal Length')\n",
    "plt.ylabel('Petal Width')\n",
    "print('The accuracy score of K-Mean: ',sm.accuracy_score(y, model.labels_))\n",
    "print('The Confusion matrixof K-Mean: ',sm.confusion_matrix(y, model.labels_))"
   ]
  },
  {
   "cell_type": "code",
   "execution_count": 16,
   "id": "684dc6da",
   "metadata": {},
   "outputs": [
    {
     "name": "stdout",
     "output_type": "stream",
     "text": [
      "The accuracy score of EM:  0.35333333333333333\n",
      "The Confusion matrix of EM:  [[ 5  0 45]\n",
      " [ 2 48  0]\n",
      " [ 0 50  0]]\n"
     ]
    },
    {
     "name": "stderr",
     "output_type": "stream",
     "text": [
      "C:\\Users\\VIVEK\\anaconda3\\lib\\site-packages\\sklearn\\cluster\\_kmeans.py:1382: UserWarning: KMeans is known to have a memory leak on Windows with MKL, when there are less chunks than available threads. You can avoid it by setting the environment variable OMP_NUM_THREADS=1.\n",
      "  warnings.warn(\n"
     ]
    },
    {
     "data": {
      "image/png": "[encoded data removed]",
      "text/plain": [
       "<Figure size 640x480 with 1 Axes>"
      ]
     },
     "metadata": {},
     "output_type": "display_data"
    }
   ],
   "source": [
    "from sklearn import preprocessing\n",
    "scaler = preprocessing.StandardScaler()\n",
    "scaler.fit(X)\n",
    "xsa = scaler.transform(X)\n",
    "xs = pd.DataFrame(xsa, columns = X.columns)\n",
    "#xs.sample(5)\n",
    "\n",
    "from sklearn.mixture import GaussianMixture\n",
    "gmm = GaussianMixture(n_components=3)\n",
    "gmm.fit(xs)\n",
    "\n",
    "y_gmm = gmm.predict(xs)\n",
    "#y_cluster_gmm\n",
    "\n",
    "plt.subplot(2, 2, 3)\n",
    "plt.scatter(X.Petal_Length, X.Petal_Width, c=colormap[y_gmm], s=40)\n",
    "plt.title('GMM Classification')\n",
    "plt.xlabel('Petal Length')\n",
    "plt.ylabel('Petal Width')\n",
    "\n",
    "print('The accuracy score of EM: ',sm.accuracy_score(y, y_gmm))\n",
    "print('The Confusion matrix of EM: ',sm.confusion_matrix(y, y_gmm))"
   ]
  },
  {
   "cell_type": "markdown",
   "id": "38e888f2",
   "metadata": {},
   "source": [
    "### 4. Demonstrate Pre processing (Data Cleaning, Integration and Transformation) activity on suitable data: For example: Identify and Delete Rows that Contain Duplicate Data by considering an appropriate dataset. Identify and Delete Columns That Contain a Single Value by considering an appropriate dataset."
   ]
  },
  {
   "cell_type": "code",
   "execution_count": 17,
   "id": "cb046617",
   "metadata": {},
   "outputs": [],
   "source": [
    "import numpy as np\n",
    "import pandas as pd\n",
    "import os"
   ]
  },
  {
   "cell_type": "code",
   "execution_count": 18,
   "id": "b5664431",
   "metadata": {},
   "outputs": [
    {
     "name": "stdout",
     "output_type": "stream",
     "text": [
      "dataset: (15, 4)\n"
     ]
    }
   ],
   "source": [
    "dataset = pd.read_csv(\"Data.csv\")\n",
    "print ('dataset: %s'%(str(dataset.shape)))"
   ]
  },
  {
   "cell_type": "code",
   "execution_count": 19,
   "id": "47827fb4",
   "metadata": {},
   "outputs": [
    {
     "data": {
      "text/html": [
       "<div>\n",
       "<style scoped>\n",
       "    .dataframe tbody tr th:only-of-type {\n",
       "        vertical-align: middle;\n",
       "    }\n",
       "\n",
       "    .dataframe tbody tr th {\n",
       "        vertical-align: top;\n",
       "    }\n",
       "\n",
       "    .dataframe thead th {\n",
       "        text-align: right;\n",
       "    }\n",
       "</style>\n",
       "<table border=\"1\" class=\"dataframe\">\n",
       "  <thead>\n",
       "    <tr style=\"text-align: right;\">\n",
       "      <th></th>\n",
       "      <th>Country</th>\n",
       "      <th>Age</th>\n",
       "      <th>Salary</th>\n",
       "      <th>Purchased</th>\n",
       "    </tr>\n",
       "  </thead>\n",
       "  <tbody>\n",
       "    <tr>\n",
       "      <th>0</th>\n",
       "      <td>India</td>\n",
       "      <td>34.0</td>\n",
       "      <td>92000.0</td>\n",
       "      <td>Yes</td>\n",
       "    </tr>\n",
       "    <tr>\n",
       "      <th>1</th>\n",
       "      <td>Sri lanka</td>\n",
       "      <td>22.0</td>\n",
       "      <td>25000.0</td>\n",
       "      <td>Yes</td>\n",
       "    </tr>\n",
       "    <tr>\n",
       "      <th>2</th>\n",
       "      <td>China</td>\n",
       "      <td>31.0</td>\n",
       "      <td>74000.0</td>\n",
       "      <td>Yes</td>\n",
       "    </tr>\n",
       "    <tr>\n",
       "      <th>3</th>\n",
       "      <td>Sri lanka</td>\n",
       "      <td>29.0</td>\n",
       "      <td>NaN</td>\n",
       "      <td>No</td>\n",
       "    </tr>\n",
       "    <tr>\n",
       "      <th>4</th>\n",
       "      <td>China</td>\n",
       "      <td>55.0</td>\n",
       "      <td>98000.0</td>\n",
       "      <td>Yes</td>\n",
       "    </tr>\n",
       "    <tr>\n",
       "      <th>5</th>\n",
       "      <td>India</td>\n",
       "      <td>24.0</td>\n",
       "      <td>30000.0</td>\n",
       "      <td>No</td>\n",
       "    </tr>\n",
       "    <tr>\n",
       "      <th>6</th>\n",
       "      <td>Sri lanka</td>\n",
       "      <td>28.0</td>\n",
       "      <td>40000.0</td>\n",
       "      <td>No</td>\n",
       "    </tr>\n",
       "    <tr>\n",
       "      <th>7</th>\n",
       "      <td>India</td>\n",
       "      <td>NaN</td>\n",
       "      <td>60000.0</td>\n",
       "      <td>No</td>\n",
       "    </tr>\n",
       "    <tr>\n",
       "      <th>8</th>\n",
       "      <td>China</td>\n",
       "      <td>51.0</td>\n",
       "      <td>89000.0</td>\n",
       "      <td>Yes</td>\n",
       "    </tr>\n",
       "    <tr>\n",
       "      <th>9</th>\n",
       "      <td>India</td>\n",
       "      <td>44.0</td>\n",
       "      <td>78000.0</td>\n",
       "      <td>Yes</td>\n",
       "    </tr>\n",
       "    <tr>\n",
       "      <th>10</th>\n",
       "      <td>Sri lanka</td>\n",
       "      <td>21.0</td>\n",
       "      <td>20000.0</td>\n",
       "      <td>No</td>\n",
       "    </tr>\n",
       "    <tr>\n",
       "      <th>11</th>\n",
       "      <td>China</td>\n",
       "      <td>25.0</td>\n",
       "      <td>30000.0</td>\n",
       "      <td>Yes</td>\n",
       "    </tr>\n",
       "    <tr>\n",
       "      <th>12</th>\n",
       "      <td>India</td>\n",
       "      <td>33.0</td>\n",
       "      <td>45000.0</td>\n",
       "      <td>Yes</td>\n",
       "    </tr>\n",
       "    <tr>\n",
       "      <th>13</th>\n",
       "      <td>India</td>\n",
       "      <td>42.0</td>\n",
       "      <td>65000.0</td>\n",
       "      <td>Yes</td>\n",
       "    </tr>\n",
       "    <tr>\n",
       "      <th>14</th>\n",
       "      <td>Sri lanka</td>\n",
       "      <td>33.0</td>\n",
       "      <td>22000.0</td>\n",
       "      <td>No</td>\n",
       "    </tr>\n",
       "  </tbody>\n",
       "</table>\n",
       "</div>"
      ],
      "text/plain": [
       "      Country   Age   Salary Purchased\n",
       "0       India  34.0  92000.0       Yes\n",
       "1   Sri lanka  22.0  25000.0       Yes\n",
       "2       China  31.0  74000.0       Yes\n",
       "3   Sri lanka  29.0      NaN        No\n",
       "4       China  55.0  98000.0       Yes\n",
       "5       India  24.0  30000.0        No\n",
       "6   Sri lanka  28.0  40000.0        No\n",
       "7       India   NaN  60000.0        No\n",
       "8       China  51.0  89000.0       Yes\n",
       "9       India  44.0  78000.0       Yes\n",
       "10  Sri lanka  21.0  20000.0        No\n",
       "11      China  25.0  30000.0       Yes\n",
       "12      India  33.0  45000.0       Yes\n",
       "13      India  42.0  65000.0       Yes\n",
       "14  Sri lanka  33.0  22000.0        No"
      ]
     },
     "execution_count": 19,
     "metadata": {},
     "output_type": "execute_result"
    }
   ],
   "source": [
    "dataset"
   ]
  },
  {
   "cell_type": "code",
   "execution_count": 20,
   "id": "c47acc05",
   "metadata": {},
   "outputs": [],
   "source": [
    "X = dataset.iloc[:,:-1].values\n",
    "\n",
    "Y = dataset.iloc[:,3].values"
   ]
  },
  {
   "cell_type": "code",
   "execution_count": 21,
   "id": "52339443",
   "metadata": {},
   "outputs": [
    {
     "name": "stdout",
     "output_type": "stream",
     "text": [
      "X: [['India' 34.0 92000.0]\n",
      " ['Sri lanka' 22.0 25000.0]\n",
      " ['China' 31.0 74000.0]\n",
      " ['Sri lanka' 29.0 nan]\n",
      " ['China' 55.0 98000.0]\n",
      " ['India' 24.0 30000.0]\n",
      " ['Sri lanka' 28.0 40000.0]\n",
      " ['India' nan 60000.0]\n",
      " ['China' 51.0 89000.0]\n",
      " ['India' 44.0 78000.0]\n",
      " ['Sri lanka' 21.0 20000.0]\n",
      " ['China' 25.0 30000.0]\n",
      " ['India' 33.0 45000.0]\n",
      " ['India' 42.0 65000.0]\n",
      " ['Sri lanka' 33.0 22000.0]]\n",
      "-----------------------------------\n",
      "Y: ['Yes' 'Yes' 'Yes' 'No' 'Yes' 'No' 'No' 'No' 'Yes' 'Yes' 'No' 'Yes' 'Yes'\n",
      " 'Yes' 'No']\n"
     ]
    }
   ],
   "source": [
    "print ('X: %s'%(str(X)))\n",
    "print ('-----------------------------------')\n",
    "print ('Y: %s'%(str(Y)))"
   ]
  },
  {
   "cell_type": "code",
   "execution_count": 22,
   "id": "3392d33d",
   "metadata": {},
   "outputs": [],
   "source": [
    "from sklearn.impute import SimpleImputer\n",
    "imputer = SimpleImputer(missing_values=np.nan, strategy='mean')\n",
    "imputer = imputer.fit(X[:,1:3])\n",
    "X[:,1:3] = imputer.transform(X[:,1:3])"
   ]
  },
  {
   "cell_type": "code",
   "execution_count": 23,
   "id": "15bbd0d2",
   "metadata": {},
   "outputs": [
    {
     "name": "stdout",
     "output_type": "stream",
     "text": [
      "X: [['India' 34.0 92000.0]\n",
      " ['Sri lanka' 22.0 25000.0]\n",
      " ['China' 31.0 74000.0]\n",
      " ['Sri lanka' 29.0 54857.142857142855]\n",
      " ['China' 55.0 98000.0]\n",
      " ['India' 24.0 30000.0]\n",
      " ['Sri lanka' 28.0 40000.0]\n",
      " ['India' 33.714285714285715 60000.0]\n",
      " ['China' 51.0 89000.0]\n",
      " ['India' 44.0 78000.0]\n",
      " ['Sri lanka' 21.0 20000.0]\n",
      " ['China' 25.0 30000.0]\n",
      " ['India' 33.0 45000.0]\n",
      " ['India' 42.0 65000.0]\n",
      " ['Sri lanka' 33.0 22000.0]]\n"
     ]
    }
   ],
   "source": [
    "print ('X: %s'%(str(X)))"
   ]
  },
  {
   "cell_type": "code",
   "execution_count": 24,
   "id": "72b6fe4a",
   "metadata": {},
   "outputs": [
    {
     "data": {
      "text/plain": [
       "array([1, 2, 0, 2, 0, 1, 2, 1, 0, 1, 2, 0, 1, 1, 2], dtype=object)"
      ]
     },
     "execution_count": 24,
     "metadata": {},
     "output_type": "execute_result"
    }
   ],
   "source": [
    "from sklearn.preprocessing import LabelEncoder,OneHotEncoder\n",
    "\n",
    "labelencoder_X = LabelEncoder()\n",
    "X[:,0] = labelencoder_X.fit_transform(X[:,0])\n",
    "X[:,0]"
   ]
  },
  {
   "cell_type": "code",
   "execution_count": 25,
   "id": "07932e84",
   "metadata": {},
   "outputs": [
    {
     "data": {
      "text/plain": [
       "array([1, 1, 1, 0, 1, 0, 0, 0, 1, 1, 0, 1, 1, 1, 0])"
      ]
     },
     "execution_count": 25,
     "metadata": {},
     "output_type": "execute_result"
    }
   ],
   "source": [
    "labelencoder_Y = LabelEncoder()\n",
    "Y = labelencoder_X.fit_transform(Y)\n",
    "Y"
   ]
  },
  {
   "cell_type": "code",
   "execution_count": 26,
   "id": "28be0c9f",
   "metadata": {},
   "outputs": [],
   "source": [
    "from sklearn.model_selection import train_test_split\n",
    "X_train,X_test,Y_train,Y_test = train_test_split(X,Y,test_size = 0.2,random_state = 0)"
   ]
  },
  {
   "cell_type": "code",
   "execution_count": 27,
   "id": "e22a59aa",
   "metadata": {
    "scrolled": true
   },
   "outputs": [
    {
     "name": "stdout",
     "output_type": "stream",
     "text": [
      "X_train: (12, 3)\n",
      "----------------\n",
      "X_test: (3, 3)\n",
      "----------------\n",
      "Y_train: (12,)\n",
      "----------------\n",
      "Y_test: (3,)\n",
      "----------------\n"
     ]
    }
   ],
   "source": [
    "print ('X_train: %s'%(str(X_train.shape)))\n",
    "print ('----------------')\n",
    "print ('X_test: %s'%(str(X_test.shape)))\n",
    "print ('----------------')\n",
    "print ('Y_train: %s'%(str(Y_train.shape)))\n",
    "print ('----------------')\n",
    "print ('Y_test: %s'%(str(Y_test.shape)))\n",
    "print ('----------------')"
   ]
  },
  {
   "cell_type": "code",
   "execution_count": 28,
   "id": "c4861fab",
   "metadata": {},
   "outputs": [],
   "source": [
    "from sklearn.preprocessing import StandardScaler\n",
    "\n",
    "sc_X = StandardScaler()\n",
    "X_train = sc_X.fit_transform(X_train).astype(int)\n",
    "X_test = sc_X.transform(X_test)"
   ]
  },
  {
   "cell_type": "code",
   "execution_count": 29,
   "id": "0d712149",
   "metadata": {},
   "outputs": [
    {
     "data": {
      "text/plain": [
       "array([[ 0,  1,  0],\n",
       "       [ 1,  0, -1],\n",
       "       [-1,  2,  1],\n",
       "       [-1,  0,  0],\n",
       "       [ 0,  0,  0],\n",
       "       [ 1, -1, -1],\n",
       "       [ 0,  0,  0],\n",
       "       [-1,  0, -1],\n",
       "       [ 1,  0,  0],\n",
       "       [ 0,  0,  1],\n",
       "       [ 0, -1, -1],\n",
       "       [ 0,  0,  0]])"
      ]
     },
     "execution_count": 29,
     "metadata": {},
     "output_type": "execute_result"
    }
   ],
   "source": [
    "X_train"
   ]
  },
  {
   "cell_type": "code",
   "execution_count": 30,
   "id": "d877eed8",
   "metadata": {},
   "outputs": [
    {
     "data": {
      "text/plain": [
       "array([[ 1.41421356, -1.29089245, -1.19871456],\n",
       "       [ 1.41421356, -0.63037489, -0.61374928],\n",
       "       [-1.41421356,  1.90160908,  1.29713729]])"
      ]
     },
     "execution_count": 30,
     "metadata": {},
     "output_type": "execute_result"
    }
   ],
   "source": [
    "X_test"
   ]
  },
  {
   "cell_type": "code",
   "execution_count": 31,
   "id": "bf67b0aa",
   "metadata": {},
   "outputs": [
    {
     "data": {
      "text/html": [
       "<div>\n",
       "<style scoped>\n",
       "    .dataframe tbody tr th:only-of-type {\n",
       "        vertical-align: middle;\n",
       "    }\n",
       "\n",
       "    .dataframe tbody tr th {\n",
       "        vertical-align: top;\n",
       "    }\n",
       "\n",
       "    .dataframe thead th {\n",
       "        text-align: right;\n",
       "    }\n",
       "</style>\n",
       "<table border=\"1\" class=\"dataframe\">\n",
       "  <thead>\n",
       "    <tr style=\"text-align: right;\">\n",
       "      <th></th>\n",
       "      <th>Country</th>\n",
       "      <th>Age</th>\n",
       "      <th>Salary</th>\n",
       "    </tr>\n",
       "  </thead>\n",
       "  <tbody>\n",
       "    <tr>\n",
       "      <th>0</th>\n",
       "      <td>India</td>\n",
       "      <td>34.0</td>\n",
       "      <td>92000.0</td>\n",
       "    </tr>\n",
       "    <tr>\n",
       "      <th>1</th>\n",
       "      <td>Sri lanka</td>\n",
       "      <td>22.0</td>\n",
       "      <td>25000.0</td>\n",
       "    </tr>\n",
       "    <tr>\n",
       "      <th>2</th>\n",
       "      <td>China</td>\n",
       "      <td>31.0</td>\n",
       "      <td>74000.0</td>\n",
       "    </tr>\n",
       "    <tr>\n",
       "      <th>3</th>\n",
       "      <td>Sri lanka</td>\n",
       "      <td>29.0</td>\n",
       "      <td>NaN</td>\n",
       "    </tr>\n",
       "    <tr>\n",
       "      <th>4</th>\n",
       "      <td>China</td>\n",
       "      <td>55.0</td>\n",
       "      <td>98000.0</td>\n",
       "    </tr>\n",
       "    <tr>\n",
       "      <th>5</th>\n",
       "      <td>India</td>\n",
       "      <td>24.0</td>\n",
       "      <td>30000.0</td>\n",
       "    </tr>\n",
       "    <tr>\n",
       "      <th>6</th>\n",
       "      <td>Sri lanka</td>\n",
       "      <td>28.0</td>\n",
       "      <td>40000.0</td>\n",
       "    </tr>\n",
       "    <tr>\n",
       "      <th>7</th>\n",
       "      <td>India</td>\n",
       "      <td>NaN</td>\n",
       "      <td>60000.0</td>\n",
       "    </tr>\n",
       "    <tr>\n",
       "      <th>8</th>\n",
       "      <td>China</td>\n",
       "      <td>51.0</td>\n",
       "      <td>89000.0</td>\n",
       "    </tr>\n",
       "    <tr>\n",
       "      <th>9</th>\n",
       "      <td>India</td>\n",
       "      <td>44.0</td>\n",
       "      <td>78000.0</td>\n",
       "    </tr>\n",
       "    <tr>\n",
       "      <th>10</th>\n",
       "      <td>Sri lanka</td>\n",
       "      <td>21.0</td>\n",
       "      <td>20000.0</td>\n",
       "    </tr>\n",
       "    <tr>\n",
       "      <th>11</th>\n",
       "      <td>China</td>\n",
       "      <td>25.0</td>\n",
       "      <td>30000.0</td>\n",
       "    </tr>\n",
       "    <tr>\n",
       "      <th>12</th>\n",
       "      <td>India</td>\n",
       "      <td>33.0</td>\n",
       "      <td>45000.0</td>\n",
       "    </tr>\n",
       "    <tr>\n",
       "      <th>13</th>\n",
       "      <td>India</td>\n",
       "      <td>42.0</td>\n",
       "      <td>65000.0</td>\n",
       "    </tr>\n",
       "    <tr>\n",
       "      <th>14</th>\n",
       "      <td>Sri lanka</td>\n",
       "      <td>33.0</td>\n",
       "      <td>22000.0</td>\n",
       "    </tr>\n",
       "  </tbody>\n",
       "</table>\n",
       "</div>"
      ],
      "text/plain": [
       "      Country   Age   Salary\n",
       "0       India  34.0  92000.0\n",
       "1   Sri lanka  22.0  25000.0\n",
       "2       China  31.0  74000.0\n",
       "3   Sri lanka  29.0      NaN\n",
       "4       China  55.0  98000.0\n",
       "5       India  24.0  30000.0\n",
       "6   Sri lanka  28.0  40000.0\n",
       "7       India   NaN  60000.0\n",
       "8       China  51.0  89000.0\n",
       "9       India  44.0  78000.0\n",
       "10  Sri lanka  21.0  20000.0\n",
       "11      China  25.0  30000.0\n",
       "12      India  33.0  45000.0\n",
       "13      India  42.0  65000.0\n",
       "14  Sri lanka  33.0  22000.0"
      ]
     },
     "execution_count": 31,
     "metadata": {},
     "output_type": "execute_result"
    }
   ],
   "source": [
    "del dataset[\"Purchased\"]\n",
    "dataset"
   ]
  },
  {
   "cell_type": "markdown",
   "id": "54f85e15",
   "metadata": {},
   "source": [
    "### 5. For a given set of training data examples stored in a .CSV file,implement and demonstrate the Candidate-Elimination algorithm. Output adescription of the set of all hypotheses consistent with the training examples."
   ]
  },
  {
   "cell_type": "code",
   "execution_count": 32,
   "id": "273e09f7",
   "metadata": {},
   "outputs": [
    {
     "name": "stdout",
     "output_type": "stream",
     "text": [
      "[['Sunny' 'Warm' 'Normal' 'Strong' 'Warm' 'Same']\n",
      " ['Sunny' 'Warm' 'High' 'Strong' 'Warm' 'Same']\n",
      " ['Rainy' 'Cold' 'High' 'Strong' 'Warm' 'Change']\n",
      " ['Sunny' 'Warm' 'High' 'Strong' 'Cool' 'Change']]\n",
      "['Yes' 'Yes' 'No' 'Yes']\n",
      "\n",
      "Initialization of specific_h and general_h\n",
      "['Sunny' 'Warm' 'Normal' 'Strong' 'Warm' 'Same']\n",
      "[['?', '?', '?', '?', '?', '?'], ['?', '?', '?', '?', '?', '?'], ['?', '?', '?', '?', '?', '?'], ['?', '?', '?', '?', '?', '?'], ['?', '?', '?', '?', '?', '?'], ['?', '?', '?', '?', '?', '?']]\n",
      "\n",
      "Steps of Candidate Elimination Algorithm 1\n",
      "['Sunny' 'Warm' 'Normal' 'Strong' 'Warm' 'Same']\n",
      "[['?', '?', '?', '?', '?', '?'], ['?', '?', '?', '?', '?', '?'], ['?', '?', '?', '?', '?', '?'], ['?', '?', '?', '?', '?', '?'], ['?', '?', '?', '?', '?', '?'], ['?', '?', '?', '?', '?', '?']]\n",
      "\n",
      "Steps of Candidate Elimination Algorithm 2\n",
      "['Sunny' 'Warm' '?' 'Strong' 'Warm' 'Same']\n",
      "[['?', '?', '?', '?', '?', '?'], ['?', '?', '?', '?', '?', '?'], ['?', '?', '?', '?', '?', '?'], ['?', '?', '?', '?', '?', '?'], ['?', '?', '?', '?', '?', '?'], ['?', '?', '?', '?', '?', '?']]\n",
      "\n",
      "Steps of Candidate Elimination Algorithm 3\n",
      "['Sunny' 'Warm' '?' 'Strong' 'Warm' 'Same']\n",
      "[['Sunny', '?', '?', '?', '?', '?'], ['?', 'Warm', '?', '?', '?', '?'], ['?', '?', '?', '?', '?', '?'], ['?', '?', '?', '?', '?', '?'], ['?', '?', '?', '?', '?', '?'], ['?', '?', '?', '?', '?', 'Same']]\n",
      "\n",
      "Steps of Candidate Elimination Algorithm 4\n",
      "['Sunny' 'Warm' '?' 'Strong' '?' '?']\n",
      "[['Sunny', '?', '?', '?', '?', '?'], ['?', 'Warm', '?', '?', '?', '?'], ['?', '?', '?', '?', '?', '?'], ['?', '?', '?', '?', '?', '?'], ['?', '?', '?', '?', '?', '?'], ['?', '?', '?', '?', '?', '?']]\n",
      "\n",
      "Final Specific_h:\n",
      "['Sunny' 'Warm' '?' 'Strong' '?' '?']\n",
      "\n",
      "Final General_h:\n",
      "[['Sunny', '?', '?', '?', '?', '?'], ['?', 'Warm', '?', '?', '?', '?']]\n"
     ]
    }
   ],
   "source": [
    "import numpy as np\n",
    "import pandas as pd\n",
    "data = pd.DataFrame(data=pd.read_csv('trainingdata.csv'))\n",
    "concepts = np.array(data.iloc[:,0:-1])\n",
    "print(concepts)\n",
    "target = np.array(data.iloc[:,-1])\n",
    "print(target)\n",
    "def learn(concepts, target):\n",
    "\n",
    "    specific_h = concepts[0].copy()\n",
    "    print(\"\\nInitialization of specific_h and general_h\")\n",
    "    print(specific_h)\n",
    "\n",
    "    general_h = [[\"?\" for i in range(len(specific_h))] for i in range(len(specific_h))]\n",
    "    print(general_h)\n",
    "    for i, h in enumerate(concepts):\n",
    "        if target[i] == \"Yes\":\n",
    "            for x in range(len(specific_h)):\n",
    "                if h[x] != specific_h[x]:\n",
    "                    specific_h[x] = '?'\n",
    "                    general_h[x][x] = '?'\n",
    "        if target[i] == \"No\":\n",
    "            for x in range(len(specific_h)):\n",
    "                if h[x] != specific_h[x]:\n",
    "                    general_h[x][x] = specific_h[x]\n",
    "                else:\n",
    "                    general_h[x][x] = '?'\n",
    "\n",
    "        print(\"\\nSteps of Candidate Elimination Algorithm\",i+1)\n",
    "        print(specific_h)\n",
    "        print(general_h)\n",
    "    \n",
    "    indices = [i for i, val in enumerate(general_h) if val == ['?', '?', '?', '?', '?', '?']]\n",
    "    for i in indices:\n",
    "        general_h.remove(['?', '?', '?', '?', '?', '?'])\n",
    "    return specific_h, general_h\n",
    "s_final, g_final = learn(concepts, target)\n",
    "print(\"\\nFinal Specific_h:\", s_final, sep=\"\\n\")\n",
    "print(\"\\nFinal General_h:\", g_final, sep=\"\\n\")"
   ]
  },
  {
   "cell_type": "markdown",
   "id": "76bb1289",
   "metadata": {},
   "source": [
    "### 6. Implement and demonstrate the FIND-S algorithm for finding the most specific hypothesis based on a given set of training data samples. Read the training data from a .CSV file and show the output for test cases. Develop an interactive program by Comparing  the result by implementing LIST THEN ELIMINATE algorithm."
   ]
  },
  {
   "cell_type": "code",
   "execution_count": 1,
   "id": "c9d98415",
   "metadata": {},
   "outputs": [
    {
     "name": "stdout",
     "output_type": "stream",
     "text": [
      "    Outlook Temperature Humidity  Windy Play\n",
      "0     Sunny         Hot     High  False   No\n",
      "1  Overcast         Hot     High  False  Yes\n",
      "2      Rain        Mild     High  False  Yes\n",
      "3      Rain        Cool   Normal  False  Yes\n",
      "4     Sunny        Mild   Normal   True  Yes\n"
     ]
    }
   ],
   "source": [
    "import pandas as pd\n",
    "\n",
    "def list_then_eliminate(training_data):\n",
    "    positive_examples = training_data[training_data['Play'] == 'No']\n",
    "    \n",
    "    if positive_examples.empty:\n",
    "        return None\n",
    "    \n",
    "    hypothesis = positive_examples.iloc[0, :-1]\n",
    "    \n",
    "    for _, example in training_data.iterrows():\n",
    "        if example['Play'] == 'No':\n",
    "            for attr in hypothesis.keys():\n",
    "                if example[attr] != hypothesis[attr]:\n",
    "                    hypothesis[attr] = '?'\n",
    "    \n",
    "    return hypothesis\n",
    "\n",
    "# Load the training data\n",
    "training_data = pd.read_csv('dataset 1.csv')\n",
    "print(training_data)"
   ]
  },
  {
   "cell_type": "code",
   "execution_count": 2,
   "id": "7e4af690",
   "metadata": {},
   "outputs": [
    {
     "name": "stdout",
     "output_type": "stream",
     "text": [
      "Hypothesis space:\n",
      "Outlook        Sunny\n",
      "Temperature      Hot\n",
      "Humidity        High\n",
      "Windy          False\n",
      "Name: 0, dtype: object\n"
     ]
    }
   ],
   "source": [
    "# Run the LIST THEN ELIMINATE algorithm\n",
    "hypothesis_space = list_then_eliminate(training_data)\n",
    "\n",
    "# Output the hypothesis space\n",
    "print(\"Hypothesis space:\")\n",
    "print(hypothesis_space)\n"
   ]
  },
  {
   "cell_type": "code",
   "execution_count": null,
   "id": "7ecaf490",
   "metadata": {},
   "outputs": [],
   "source": []
  }
 ],
 "metadata": {
  "kernelspec": {
   "display_name": "Python 3 (ipykernel)",
   "language": "python",
   "name": "python3"
  },
  "language_info": {
   "codemirror_mode": {
    "name": "ipython",
    "version": 3
   },
   "file_extension": ".py",
   "mimetype": "text/x-python",
   "name": "python",
   "nbconvert_exporter": "python",
   "pygments_lexer": "ipython3",
   "version": "3.10.9"
  }
 },
 "nbformat": 4,
 "nbformat_minor": 5
}
